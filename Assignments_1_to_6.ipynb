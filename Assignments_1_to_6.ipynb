{
  "nbformat": 4,
  "nbformat_minor": 0,
  "metadata": {
    "colab": {
      "provenance": [],
      "authorship_tag": "ABX9TyPCSSxPv9JExHjBVECfpN4+",
      "include_colab_link": true
    },
    "kernelspec": {
      "name": "python3",
      "display_name": "Python 3"
    },
    "language_info": {
      "name": "python"
    }
  },
  "cells": [
    {
      "cell_type": "markdown",
      "metadata": {
        "id": "view-in-github",
        "colab_type": "text"
      },
      "source": [
        "<a href=\"https://colab.research.google.com/github/Shagufta-Naz-123/project4.python/blob/main/Assignments_1_to_6.ipynb\" target=\"_parent\"><img src=\"https://colab.research.google.com/assets/colab-badge.svg\" alt=\"Open In Colab\"/></a>"
      ]
    },
    {
      "cell_type": "code",
      "execution_count": 1,
      "metadata": {
        "colab": {
          "base_uri": "https://localhost:8080/"
        },
        "id": "6HnzfhWe-1fp",
        "outputId": "8b133348-428f-4d82-d57c-42d9fa6578e5"
      },
      "outputs": [
        {
          "output_type": "stream",
          "name": "stdout",
          "text": [
            "Enter a name: shagufta\n",
            "Enter a place: karachi\n",
            "Enter an adjective: pretty\n",
            "Enter a favorite food: b.b.q\n",
            "Enter a verb: yumm\n",
            "\n",
            "✨ Your Mad Libs Story ✨\n",
            "\n",
            "Once upon a time, shagufta went to karachi. It was a very pretty place.\n",
            "There, shagufta found a magical shop selling b.b.q.\n",
            "Excited, shagufta decided to yumm all day long. It was an unforgettable experience!\n",
            "\n"
          ]
        }
      ],
      "source": [
        "name = input(\"Enter a name: \")\n",
        "place = input(\"Enter a place: \")\n",
        "adjective = input(\"Enter an adjective: \")\n",
        "food = input(\"Enter a favorite food: \")\n",
        "verb = input(\"Enter a verb: \")\n",
        "\n",
        "# Story Template\n",
        "story = f\"\"\"\n",
        "Once upon a time, {name} went to {place}. It was a very {adjective} place.\n",
        "There, {name} found a magical shop selling {food}.\n",
        "Excited, {name} decided to {verb} all day long. It was an unforgettable experience!\n",
        "\"\"\"\n",
        "print(\"\\n✨ Your Mad Libs Story ✨\")\n",
        "print(story)"
      ]
    },
    {
      "cell_type": "code",
      "source": [
        "import random\n",
        "\n",
        "secret_number = random.randint(1, 100)\n",
        "\n",
        "print(\"🎯 Welcome to 'Guess the Number' game!\")\n",
        "print(\"I have chosen a number between 1 and 100. Can you guess it?\")\n",
        "\n",
        "attempts = 0\n",
        "while True:\n",
        "    guess = int(input(\"Enter your guess: \"))\n",
        "    attempts += 1\n",
        "\n",
        "    if guess < secret_number:\n",
        "        print(\"Too low! Try again. ⬆️\")\n",
        "    elif guess > secret_number:\n",
        "        print(\"Too high! Try again. ⬇️\")\n",
        "    else:\n",
        "        print(f\"🎉 Congratulations! You guessed the number in {attempts} attempts.\")\n",
        "        break\n",
        ""
      ],
      "metadata": {
        "colab": {
          "base_uri": "https://localhost:8080/"
        },
        "id": "fpY-v2ReAprR",
        "outputId": "11608094-f9b9-470e-a037-c1b452c3c5ea"
      },
      "execution_count": 6,
      "outputs": [
        {
          "output_type": "stream",
          "name": "stdout",
          "text": [
            "🎯 Welcome to 'Guess the Number' game!\n",
            "I have chosen a number between 1 and 100. Can you guess it?\n",
            "Enter your guess: 15\n",
            "Too low! Try again. ⬆️\n",
            "Enter your guess: 10\n",
            "Too low! Try again. ⬆️\n",
            "Enter your guess: 13\n",
            "Too low! Try again. ⬆️\n",
            "Enter your guess: 11\n",
            "Too low! Try again. ⬆️\n",
            "Enter your guess: 12\n",
            "Too low! Try again. ⬆️\n",
            "Enter your guess: 14\n",
            "Too low! Try again. ⬆️\n",
            "Enter your guess: 17\n",
            "Too low! Try again. ⬆️\n",
            "Enter your guess: 20\n",
            "Too low! Try again. ⬆️\n",
            "Enter your guess: 30\n",
            "Too low! Try again. ⬆️\n",
            "Enter your guess: 40\n",
            "Too high! Try again. ⬇️\n",
            "Enter your guess: 35\n",
            "Too low! Try again. ⬆️\n",
            "Enter your guess: 38\n",
            "Too high! Try again. ⬇️\n",
            "Enter your guess: 36\n",
            "Too low! Try again. ⬆️\n",
            "Enter your guess: 37\n",
            "🎉 Congratulations! You guessed the number in 14 attempts.\n"
          ]
        }
      ]
    },
    {
      "cell_type": "code",
      "source": [
        "\n",
        "import random\n",
        "\n",
        "def computer_guess(x):\n",
        "    low = 1\n",
        "    high = x\n",
        "    attempts = 0\n",
        "    feedback = \"\"\n",
        "\n",
        "    print(\"🤖 Think of a number between 1 and\", x, \"and let the computer guess it!\")\n",
        "\n",
        "    while feedback != \"c\":\n",
        "        attempts += 1\n",
        "        if low != high:\n",
        "            guess = random.randint(low, high)\n",
        "        else:\n",
        "            guess = low\n",
        "\n",
        "        feedback = input(f\"Is {guess} too high (H), too low (L), or correct (C)? \").lower()\n",
        "\n",
        "        if feedback == \"h\":\n",
        "            high = guess - 1\n",
        "        elif feedback == \"l\":\n",
        "            low = guess + 1\n",
        "\n",
        "    print(f\"🎉 Yay! The computer guessed your number {guess} in {attempts} attempts!\")\n",
        "\n",
        "computer_guess(100)\n"
      ],
      "metadata": {
        "colab": {
          "base_uri": "https://localhost:8080/"
        },
        "id": "6yaUw-sgDihb",
        "outputId": "03c6167c-68f5-4ea8-a0ac-5383c0baaeb8"
      },
      "execution_count": 9,
      "outputs": [
        {
          "output_type": "stream",
          "name": "stdout",
          "text": [
            "🤖 Think of a number between 1 and 100 and let the computer guess it!\n",
            "Is 77 too high (H), too low (L), or correct (C)? h\n",
            "Is 21 too high (H), too low (L), or correct (C)? l\n",
            "Is 76 too high (H), too low (L), or correct (C)? c\n",
            "🎉 Yay! The computer guessed your number 76 in 3 attempts!\n"
          ]
        }
      ]
    },
    {
      "cell_type": "code",
      "source": [
        "import random\n",
        "\n",
        "def play():\n",
        "    user = input(\"🎮 Choose Rock (r), Paper (p), or Scissors (s): \").lower()\n",
        "    computer = random.choice([\"r\", \"p\", \"s\"])\n",
        "\n",
        "    print(f\"🤖 Computer chose: {computer}\")\n",
        "\n",
        "    if user == computer:\n",
        "        return \"😐 It's a tie!\"\n",
        "\n",
        "    if is_win(user, computer):\n",
        "        return \"🎉 You win!\"\n",
        "\n",
        "    return \"💀 You lose!\"\n",
        "\n",
        "def is_win(player, opponent):\n",
        "    # r > s, s > p, p > r (Winning Conditions)\n",
        "    if (player == \"r\" and opponent == \"s\") or \\\n",
        "       (player == \"s\" and opponent == \"p\") or \\\n",
        "       (player == \"p\" and opponent == \"r\"):\n",
        "        return True\n",
        "    return False\n",
        "\n",
        "print(play())"
      ],
      "metadata": {
        "id": "3T_rnD2IHBsT",
        "outputId": "fcaedd99-7afd-486b-e697-1704ce45ca7d",
        "colab": {
          "base_uri": "https://localhost:8080/"
        }
      },
      "execution_count": 11,
      "outputs": [
        {
          "output_type": "stream",
          "name": "stdout",
          "text": [
            "🎮 Choose Rock (r), Paper (p), or Scissors (s): r\n",
            "🤖 Computer chose: r\n",
            "😐 It's a tie!\n"
          ]
        }
      ]
    },
    {
      "cell_type": "code",
      "source": [
        "import random\n",
        "import string\n",
        "\n",
        "def generate_password(length):\n",
        "    characters = string.ascii_letters + string.digits + string.punctuation\n",
        "    password = ''.join(random.choice(characters) for _ in range(length))\n",
        "    return password\n",
        "\n",
        "num_passwords = int(input(\"Enter the number of passwords you want to generate: \"))\n",
        "length = int(input(\"Enter the length of each password: \"))\n",
        "\n",
        "print(\"\\nGenerated Passwords:\")\n",
        "for _ in range(num_passwords):\n",
        "    print(generate_password(length))"
      ],
      "metadata": {
        "id": "ZesSrqhMIGtF",
        "outputId": "ff02e2f3-543e-46de-9032-b97e81119b94",
        "colab": {
          "base_uri": "https://localhost:8080/"
        }
      },
      "execution_count": 13,
      "outputs": [
        {
          "output_type": "stream",
          "name": "stdout",
          "text": [
            "Enter the number of passwords you want to generate: 5\n",
            "Enter the length of each password: 15\n",
            "\n",
            "Generated Passwords:\n",
            "JgIvp?C._qZg78L\n",
            "m<F>m7Vr\\k)n|]8\n",
            "};qq5?E/.*q[cxy\n",
            "mQ9Kzuy)1qT/6?_\n",
            "g1:5?hDQE:iZPt3\n"
          ]
        }
      ]
    },
    {
      "cell_type": "code",
      "source": [],
      "metadata": {
        "id": "JQN0kwRNHEOh"
      },
      "execution_count": null,
      "outputs": []
    }
  ]
}