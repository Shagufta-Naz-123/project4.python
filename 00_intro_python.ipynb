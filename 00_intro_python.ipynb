{
  "nbformat": 4,
  "nbformat_minor": 0,
  "metadata": {
    "colab": {
      "provenance": [],
      "authorship_tag": "ABX9TyPGkoBqrKQiHk+jFBvfiyxR",
      "include_colab_link": true
    },
    "kernelspec": {
      "name": "python3",
      "display_name": "Python 3"
    },
    "language_info": {
      "name": "python"
    }
  },
  "cells": [
    {
      "cell_type": "markdown",
      "metadata": {
        "id": "view-in-github",
        "colab_type": "text"
      },
      "source": [
        "<a href=\"https://colab.research.google.com/github/Shagufta-Naz-123/project4.python/blob/main/00_intro_python.ipynb\" target=\"_parent\"><img src=\"https://colab.research.google.com/assets/colab-badge.svg\" alt=\"Open In Colab\"/></a>"
      ]
    },
    {
      "cell_type": "code",
      "execution_count": 1,
      "metadata": {
        "colab": {
          "base_uri": "https://localhost:8080/"
        },
        "id": "lYNq8aG2mj_z",
        "outputId": "96656168-7e9d-4d52-e1f0-6bceb6dea9a3"
      },
      "outputs": [
        {
          "output_type": "stream",
          "name": "stdout",
          "text": [
            "This program adds two numbers.\n",
            "Enter first number: 6\n",
            "Enter second number: 7\n",
            "The total is: 13\n"
          ]
        }
      ],
      "source": [
        "def main():\n",
        "    print(\"This program adds two numbers.\")\n",
        "\n",
        "    num1 = int(input(\"Enter first number: \"))\n",
        "    num2 = int(input(\"Enter second number: \"))\n",
        "\n",
        "    total = num1 + num2\n",
        "    print(\"The total is:\", total)\n",
        "\n",
        "\n",
        "if __name__ == '__main__':\n",
        "    main()"
      ]
    },
    {
      "cell_type": "code",
      "source": [
        "def main():\n",
        "    animal = input(\"What's your favorite animal? \")\n",
        "\n",
        "    print(\"My favorite animal is also \" + animal + \"!\")\n",
        "\n",
        "if __name__ == '__main__':\n",
        "    main()"
      ],
      "metadata": {
        "colab": {
          "base_uri": "https://localhost:8080/"
        },
        "id": "1kVTGhWAoyYd",
        "outputId": "bddbb34f-379a-4dab-8879-0f0a091a452c"
      },
      "execution_count": 2,
      "outputs": [
        {
          "output_type": "stream",
          "name": "stdout",
          "text": [
            "What's your favorite animal? cats\n",
            "My favorite animal is also cats!\n"
          ]
        }
      ]
    },
    {
      "cell_type": "code",
      "source": [
        "def main():\n",
        "\n",
        "    fahrenheit = float(input(\"Enter temperature in Fahrenheit: \"))\n",
        "    celsius = (fahrenheit - 32) * 5.0 / 9.0\n",
        "\n",
        "    print(f\"Temperature: {fahrenheit:.1f}F = {celsius:.6f}C\")\n",
        "\n",
        "if __name__ == '__main__':\n",
        "    main()"
      ],
      "metadata": {
        "colab": {
          "base_uri": "https://localhost:8080/"
        },
        "id": "AcpvGCAZpkDR",
        "outputId": "700ee64b-e553-4769-f948-9d28afe74180"
      },
      "execution_count": 3,
      "outputs": [
        {
          "output_type": "stream",
          "name": "stdout",
          "text": [
            "Enter temperature in Fahrenheit: 75\n",
            "Temperature: 75.0F = 23.888889C\n"
          ]
        }
      ]
    },
    {
      "cell_type": "code",
      "source": [
        "def main():\n",
        "    shereen: int = 21\n",
        "    faraz: int = shereen + 1\n",
        "    faraz: int = faraz + 3\n",
        "    Maha: int = faraz + shereen\n",
        "    Sana: int = faraz\n",
        "\n",
        "    print(\"shereen is \" + str(shereen))\n",
        "    print(\"faraz is \" + str(faraz))\n",
        "    print(\"faraz is \" + str(faraz))\n",
        "    print(\"Maha is \" + str(Maha))\n",
        "    print(\"Sana is \" + str(Sana))\n",
        "\n",
        "if __name__ == '__main__':\n",
        "    main()"
      ],
      "metadata": {
        "colab": {
          "base_uri": "https://localhost:8080/"
        },
        "id": "UMsML_jrp5y_",
        "outputId": "3af090cc-4868-490c-a89d-db1446c51376"
      },
      "execution_count": 4,
      "outputs": [
        {
          "output_type": "stream",
          "name": "stdout",
          "text": [
            "shereen is 21\n",
            "faraz is 25\n",
            "faraz is 25\n",
            "Maha is 46\n",
            "Sana is 25\n"
          ]
        }
      ]
    },
    {
      "cell_type": "code",
      "source": [
        "def main():\n",
        "\n",
        "    sideA: float = float(input(\"What is the length of side A? \"))\n",
        "    sideB: float = float(input(\"What is the length of side B? \"))\n",
        "    sideC: float = float(input(\"What is the length of side C? \"))\n",
        "\n",
        "    perimeter: float = sideA + sideB + sideC\n",
        "    print(\"The total perimeter of the triangle is \" + str(perimeter))\n",
        "\n",
        "if __name__ == '__main__':\n",
        "    main()"
      ],
      "metadata": {
        "colab": {
          "base_uri": "https://localhost:8080/"
        },
        "id": "aRSONMD-sdrH",
        "outputId": "6fc1b9dd-66e3-457c-df7a-7c628eb4be8e"
      },
      "execution_count": 5,
      "outputs": [
        {
          "output_type": "stream",
          "name": "stdout",
          "text": [
            "What is the length of side A? 4\n",
            "What is the length of side B? 6\n",
            "What is the length of side C? 8\n",
            "The total perimeter of the triangle is 18.0\n"
          ]
        }
      ]
    },
    {
      "cell_type": "code",
      "source": [
        "def main():\n",
        "    number: float = float(input(\"Enter a number to find its square: \"))\n",
        "    square: float = number ** 2\n",
        "\n",
        "    print(f\"The square of {number} is {square}\")\n",
        "\n",
        "if __name__ == '__main__':\n",
        "    main()"
      ],
      "metadata": {
        "colab": {
          "base_uri": "https://localhost:8080/"
        },
        "id": "4p2Ai_TLs5xU",
        "outputId": "fd852c4c-1161-41a1-d129-1e719f2aa0aa"
      },
      "execution_count": 6,
      "outputs": [
        {
          "output_type": "stream",
          "name": "stdout",
          "text": [
            "Enter a number to find its square: 7\n",
            "The square of 7.0 is 49.0\n"
          ]
        }
      ]
    }
  ]
}