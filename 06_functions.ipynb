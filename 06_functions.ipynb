{
  "nbformat": 4,
  "nbformat_minor": 0,
  "metadata": {
    "colab": {
      "provenance": [],
      "authorship_tag": "ABX9TyMTS75M/wF0jv6gr58OH8CJ",
      "include_colab_link": true
    },
    "kernelspec": {
      "name": "python3",
      "display_name": "Python 3"
    },
    "language_info": {
      "name": "python"
    }
  },
  "cells": [
    {
      "cell_type": "markdown",
      "metadata": {
        "id": "view-in-github",
        "colab_type": "text"
      },
      "source": [
        "<a href=\"https://colab.research.google.com/github/Shagufta-Naz-123/project4.python/blob/main/06_functions.ipynb\" target=\"_parent\"><img src=\"https://colab.research.google.com/assets/colab-badge.svg\" alt=\"Open In Colab\"/></a>"
      ]
    },
    {
      "cell_type": "code",
      "execution_count": 1,
      "metadata": {
        "colab": {
          "base_uri": "https://localhost:8080/"
        },
        "id": "V1-oNBuAeWJ3",
        "outputId": "0d5a4c4e-50b7-4ffe-c010-69c7d077506e"
      },
      "outputs": [
        {
          "output_type": "stream",
          "name": "stdout",
          "text": [
            "How old is this person?: 20\n",
            "True\n"
          ]
        }
      ],
      "source": [
        "ADULT_AGE: int = 18\n",
        "\n",
        "def is_adult(age: int):\n",
        "\n",
        "    return age >= ADULT_AGE\n",
        "\n",
        "def main():\n",
        "    age = int(input(\"How old is this person?: \"))\n",
        "    print(is_adult(age))\n",
        "\n",
        "if __name__ == \"__main__\":\n",
        "    main()"
      ]
    },
    {
      "cell_type": "code",
      "source": [
        "def greet(name: str):\n",
        "\n",
        "    return \"Greetings \" + name + \"!\"\n",
        "\n",
        "def main():\n",
        "    name = input(\"What's your name? \")\n",
        "    print(greet(name))\n",
        "\n",
        "if __name__ == '__main__':\n",
        "    main()"
      ],
      "metadata": {
        "colab": {
          "base_uri": "https://localhost:8080/"
        },
        "id": "eIthfA5Pe95H",
        "outputId": "ecdc2100-064b-4e86-8803-ba873c77820e"
      },
      "execution_count": 2,
      "outputs": [
        {
          "output_type": "stream",
          "name": "stdout",
          "text": [
            "What's your name? Shagufta\n",
            "Greetings Shagufta!\n"
          ]
        }
      ]
    },
    {
      "cell_type": "code",
      "source": [
        "def in_range(n: int, low: int, high: int) -> bool:\n",
        "\n",
        "    return low <= n <= high  # Shorter way to check range condition\n",
        "\n",
        "def main():\n",
        "\n",
        "    n = int(input(\"Enter a number: \"))\n",
        "    low = int(input(\"Enter the lower bound: \"))\n",
        "    high = int(input(\"Enter the upper bound: \"))\n",
        "\n",
        "    print(in_range(n, low, high))\n",
        "\n",
        "if __name__ == '__main__':\n",
        "    main()"
      ],
      "metadata": {
        "colab": {
          "base_uri": "https://localhost:8080/"
        },
        "id": "BVdF53Wefas8",
        "outputId": "3b3e88f9-b49c-44d3-9dae-e3b54d9d71f9"
      },
      "execution_count": 4,
      "outputs": [
        {
          "output_type": "stream",
          "name": "stdout",
          "text": [
            "Enter a number: 4\n",
            "Enter the lower bound: 2\n",
            "Enter the upper bound: 6\n",
            "True\n"
          ]
        }
      ]
    },
    {
      "cell_type": "code",
      "source": [
        "def num_in_stock(fruit: str) -> int:\n",
        "\n",
        "    inventory = {\n",
        "        'apple': 2,\n",
        "        'mango': 4,\n",
        "        'banana': 1000\n",
        "    }\n",
        "    return inventory.get(fruit, 0)\n",
        "\n",
        "def main():\n",
        "    fruit = input(\"Enter a fruit: \").strip().lower()\n",
        "\n",
        "    stock = num_in_stock(fruit)\n",
        "\n",
        "    if stock > 0:\n",
        "        print(\"This fruit is in stock! Here is how many:\")\n",
        "        print(stock)\n",
        "    else:\n",
        "        print(\"This fruit is not in stock.\")\n",
        "\n",
        "if __name__ == '__main__':\n",
        "    main()"
      ],
      "metadata": {
        "colab": {
          "base_uri": "https://localhost:8080/"
        },
        "id": "deVquCKgflXm",
        "outputId": "1f7c163b-441c-4a9e-b5f0-b30fef244737"
      },
      "execution_count": 5,
      "outputs": [
        {
          "output_type": "stream",
          "name": "stdout",
          "text": [
            "Enter a fruit: apple\n",
            "This fruit is in stock! Here is how many:\n",
            "2\n"
          ]
        }
      ]
    },
    {
      "cell_type": "code",
      "source": [
        "def get_user_info():\n",
        "\n",
        "    first_name = input(\"What is your first name?: \")\n",
        "    last_name = input(\"What is your last name?: \")\n",
        "    email_address = input(\"What is your email address?: \")\n",
        "\n",
        "    return first_name, last_name, email_address\n",
        "\n",
        "def main():\n",
        "    user_data = get_user_info()\n",
        "    print(\"Received the following user data:\", user_data)\n",
        "\n",
        "if __name__ == \"__main__\":\n",
        "     main()"
      ],
      "metadata": {
        "colab": {
          "base_uri": "https://localhost:8080/"
        },
        "id": "HlPhb21Cf_AC",
        "outputId": "0703c29f-d300-4b6a-8f53-b39a405d849a"
      },
      "execution_count": 6,
      "outputs": [
        {
          "output_type": "stream",
          "name": "stdout",
          "text": [
            "What is your first name?: Shagufta\n",
            "What is your last name?: Hussain\n",
            "What is your email address?: shagufta123@gmail.com\n",
            "Received the following user data: ('Shagufta', 'Hussain', 'shagufta123@gmail.com')\n"
          ]
        }
      ]
    },
    {
      "cell_type": "code",
      "source": [
        "def subtract_seven(num):\n",
        "\n",
        "    return num - 7\n",
        "\n",
        "def main():\n",
        "    num = 7\n",
        "    num = subtract_seven(num)\n",
        "    print(\"This should be zero:\", num)\n",
        "\n",
        "if __name__ == '__main__':\n",
        "    main()"
      ],
      "metadata": {
        "colab": {
          "base_uri": "https://localhost:8080/"
        },
        "id": "s_IZoPOwhES7",
        "outputId": "e777d732-65ee-4365-8a41-42e0b48a3b1b"
      },
      "execution_count": 7,
      "outputs": [
        {
          "output_type": "stream",
          "name": "stdout",
          "text": [
            "This should be zero: 0\n"
          ]
        }
      ]
    }
  ]
}