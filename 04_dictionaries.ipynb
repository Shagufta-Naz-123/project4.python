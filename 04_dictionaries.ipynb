{
  "nbformat": 4,
  "nbformat_minor": 0,
  "metadata": {
    "colab": {
      "provenance": [],
      "authorship_tag": "ABX9TyMYEnlQ5EnZ+VgbLRRtdnXm",
      "include_colab_link": true
    },
    "kernelspec": {
      "name": "python3",
      "display_name": "Python 3"
    },
    "language_info": {
      "name": "python"
    }
  },
  "cells": [
    {
      "cell_type": "markdown",
      "metadata": {
        "id": "view-in-github",
        "colab_type": "text"
      },
      "source": [
        "<a href=\"https://colab.research.google.com/github/Shagufta-Naz-123/project4.python/blob/main/04_dictionaries.ipynb\" target=\"_parent\"><img src=\"https://colab.research.google.com/assets/colab-badge.svg\" alt=\"Open In Colab\"/></a>"
      ]
    },
    {
      "cell_type": "code",
      "execution_count": 1,
      "metadata": {
        "colab": {
          "base_uri": "https://localhost:8080/"
        },
        "id": "txJu0foZ-ODB",
        "outputId": "8ab52ab9-c3a2-445b-d764-b46f4e06a607"
      },
      "outputs": [
        {
          "output_type": "stream",
          "name": "stdout",
          "text": [
            "Enter a number: 4\n",
            "Enter a number: 5\n",
            "Enter a number: 6\n",
            "Enter a number: 7\n",
            "Enter a number: 8\n",
            "Enter a number: 9\n",
            "Enter a number: 10\n",
            "Enter a number: \n",
            "4 appears 1 times.\n",
            "5 appears 1 times.\n",
            "6 appears 1 times.\n",
            "7 appears 1 times.\n",
            "8 appears 1 times.\n",
            "9 appears 1 times.\n",
            "10 appears 1 times.\n"
          ]
        }
      ],
      "source": [
        "def get_user_numbers():\n",
        "    \"\"\"\n",
        "    Create an empty list.\n",
        "    Ask the user to input numbers and store them in a list.\n",
        "    Once they enter a blank line, break out of the loop and return the list.\n",
        "    \"\"\"\n",
        "    user_numbers = []\n",
        "    while True:\n",
        "        user_input = input(\"Enter a number: \")\n",
        "\n",
        "        if user_input == \"\":\n",
        "            break\n",
        "\n",
        "        num = int(user_input)\n",
        "        user_numbers.append(num)\n",
        "\n",
        "    return user_numbers\n",
        "\n",
        "def count_nums(num_lst):\n",
        "    \"\"\"\n",
        "    Create an empty dictionary.\n",
        "    Loop over the list of numbers.\n",
        "    If the number is not in the dictionary, add it as a key with a value of 1.\n",
        "    If the number is in the dictionary, increment its value by 1.\n",
        "    \"\"\"\n",
        "    num_dict = {}\n",
        "    for num in num_lst:\n",
        "        if num not in num_dict:\n",
        "            num_dict[num] = 1\n",
        "        else:\n",
        "            num_dict[num] += 1\n",
        "\n",
        "    return num_dict\n",
        "\n",
        "def print_counts(num_dict):\n",
        "    \"\"\"\n",
        "    Loop over the dictionary and print out each key and its value.\n",
        "    \"\"\"\n",
        "    for num, count in num_dict.items():\n",
        "        print(f\"{num} appears {count} times.\")\n",
        "\n",
        "def main():\n",
        "    \"\"\"\n",
        "    Ask the user to input numbers and store them in a list. Once they enter a blank line,\n",
        "    print out the number of times each number appeared in the list.\n",
        "    \"\"\"\n",
        "    user_numbers = get_user_numbers()\n",
        "    num_dict = count_nums(user_numbers)\n",
        "    print_counts(num_dict)\n",
        "\n",
        "if __name__ == '__main__':\n",
        "    main()"
      ]
    },
    {
      "cell_type": "code",
      "source": [
        "def read_phone_numbers():\n",
        "    \"\"\"\n",
        "    User se names aur numbers lekar ek phonebook (dictionary) me store karega.\n",
        "    Jab user blank enter karega, tab input lena band ho jayega.\n",
        "    \"\"\"\n",
        "    phonebook = {}\n",
        "\n",
        "    while True:\n",
        "        name = input(\"Name: \")\n",
        "        if name == \"\":\n",
        "            break\n",
        "        number = input(\"Number: \")\n",
        "        phonebook[name] = number  # Store name and number\n",
        "\n",
        "    return phonebook\n",
        "\n",
        "\n",
        "def print_phonebook(phonebook):\n",
        "    \"\"\"\n",
        "    Phonebook ke sare names aur numbers print karega.\n",
        "    \"\"\"\n",
        "    print(\"\\nPhonebook:\")\n",
        "    for name, number in phonebook.items():\n",
        "        print(f\"{name} -> {number}\")\n",
        "\n",
        "\n",
        "def lookup_numbers(phonebook):\n",
        "    \"\"\"\n",
        "    User se name lekar uska number dikhayega.\n",
        "    Agar name nahi mila to message print karega.\n",
        "    \"\"\"\n",
        "    while True:\n",
        "        name = input(\"\\nEnter name to lookup: \")\n",
        "        if name == \"\":  # Stop if blank input\n",
        "            break\n",
        "        if name in phonebook:\n",
        "            print(f\"{name}'s Number: {phonebook[name]}\")\n",
        "        else:\n",
        "            print(f\"{name} is not in the phonebook.\")\n",
        "\n",
        "\n",
        "def main():\n",
        "    phonebook = read_phone_numbers()  # Take input\n",
        "    print_phonebook(phonebook)  # Print phonebook\n",
        "    lookup_numbers(phonebook)  # Lookup numbers\n",
        "\n",
        "if __name__ == '__main__':\n",
        "    main()\n",
        ""
      ],
      "metadata": {
        "colab": {
          "base_uri": "https://localhost:8080/"
        },
        "id": "tiPX1e6l-lRN",
        "outputId": "1d21b2a3-9284-4c14-999c-f540367f274a"
      },
      "execution_count": 2,
      "outputs": [
        {
          "name": "stdout",
          "output_type": "stream",
          "text": [
            "Name: Shagufta\n",
            "Number: 0304 3811907\n",
            "Name: Ali\n",
            "Number:  0315 3044693\n",
            "Name: sana\n",
            "Number: 0317 3083911\n",
            "Name: \n",
            "\n",
            "Phonebook:\n",
            "Shagufta -> 0304 3811907\n",
            "Ali ->  0315 3044693\n",
            "sana -> 0317 3083911\n",
            "\n",
            "Enter name to lookup: shagufta\n",
            "shagufta is not in the phonebook.\n",
            "\n",
            "Enter name to lookup: Ali\n",
            "Ali's Number:  0315 3044693\n",
            "\n",
            "Enter name to lookup: sana\n",
            "sana's Number: 0317 3083911\n",
            "\n",
            "Enter name to lookup: \n"
          ]
        }
      ]
    },
    {
      "cell_type": "code",
      "source": [
        "\n",
        "def main():\n",
        "\n",
        "    fruits = {\n",
        "        'apple': 1.5,\n",
        "        'banana': 50,\n",
        "        'orange': 80,\n",
        "        'cherry': 1,\n",
        "        'grapes': 1.5,\n",
        "        'mango': 5\n",
        "    }\n",
        "\n",
        "    total_cost = 0\n",
        "\n",
        "    for fruit_name, price in fruits.items():\n",
        "        amount_bought = int(input(f\"How many ({fruit_name}) do you want to buy?: \"))\n",
        "        total_cost += price * amount_bought\n",
        "\n",
        "    print(f\"Your total is ${total_cost:.2f}\")\n",
        "\n",
        "if __name__ == '__main__':\n",
        "    main()"
      ],
      "metadata": {
        "colab": {
          "base_uri": "https://localhost:8080/"
        },
        "id": "bUyBZoRg_UNI",
        "outputId": "49be7813-4740-4bef-c9a0-22b38863e36a"
      },
      "execution_count": 3,
      "outputs": [
        {
          "output_type": "stream",
          "name": "stdout",
          "text": [
            "How many (apple) do you want to buy?: 70\n",
            "How many (banana) do you want to buy?: 100\n",
            "How many (orange) do you want to buy?: 150\n",
            "How many (cherry) do you want to buy?: 330\n",
            "How many (grapes) do you want to buy?: 160\n",
            "How many (mango) do you want to buy?: 120\n",
            "Your total is $18275.00\n"
          ]
        }
      ]
    },
    {
      "cell_type": "code",
      "source": [
        "from hashlib import sha256\n",
        "\n",
        "def login(email, stored_logins, password_to_check):\n",
        "\n",
        "    return stored_logins.get(email) == hash_password(password_to_check)\n",
        "\n",
        "def hash_password(password):\n",
        "\n",
        "    return sha256(password.encode()).hexdigest()\n",
        "\n",
        "def main():\n",
        "    stored_logins = {\n",
        "        \"example@gmail.com\": \"5e884898da28047151d0e56f8dc6292773603d0d6aabbdd62a11ef721d1542d8\",\n",
        "        \"code_in_placer@cip.org\": \"973607a4ae7b4cf7d96a100b0fb07e8519cc4f70441d41214a9f811577bb06cc\",\n",
        "        \"student@stanford.edu\": \"882c6df720fd99f5eebb1581a1cf975625cea8a160283011c0b9512bb56c95fb\"\n",
        "    }\n",
        "\n",
        "    print(login(\"example@gmail.com\", stored_logins, \"word\"))\n",
        "    print(login(\"example@gmail.com\", stored_logins, \"password\"))\n",
        "    print(login(\"code_in_placer@cip.org\", stored_logins, \"Karel\"))\n",
        "    print(login(\"code_in_placer@cip.org\", stored_logins, \"karel\"))\n",
        "    print(login(\"student@stanford.edu\", stored_logins, \"password\"))\n",
        "    print(login(\"student@stanford.edu\", stored_logins, \"123!456?789\"))\n",
        "\n",
        "if __name__ == '__main__':\n",
        "    main()"
      ],
      "metadata": {
        "colab": {
          "base_uri": "https://localhost:8080/"
        },
        "id": "aeLMgAVBAjZR",
        "outputId": "839e51eb-31f6-43b2-a5c7-fe0e127d9fa1"
      },
      "execution_count": 4,
      "outputs": [
        {
          "output_type": "stream",
          "name": "stdout",
          "text": [
            "False\n",
            "True\n",
            "False\n",
            "True\n",
            "False\n",
            "True\n"
          ]
        }
      ]
    }
  ]
}