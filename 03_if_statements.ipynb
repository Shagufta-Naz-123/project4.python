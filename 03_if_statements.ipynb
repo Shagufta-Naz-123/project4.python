{
  "nbformat": 4,
  "nbformat_minor": 0,
  "metadata": {
    "colab": {
      "provenance": [],
      "authorship_tag": "ABX9TyOYa573yLu3dYRs5CDaRxE5",
      "include_colab_link": true
    },
    "kernelspec": {
      "name": "python3",
      "display_name": "Python 3"
    },
    "language_info": {
      "name": "python"
    }
  },
  "cells": [
    {
      "cell_type": "markdown",
      "metadata": {
        "id": "view-in-github",
        "colab_type": "text"
      },
      "source": [
        "<a href=\"https://colab.research.google.com/github/Shagufta-Naz-123/project4.python/blob/main/03_if_statements.ipynb\" target=\"_parent\"><img src=\"https://colab.research.google.com/assets/colab-badge.svg\" alt=\"Open In Colab\"/></a>"
      ]
    },
    {
      "cell_type": "code",
      "source": [
        "def main():\n",
        "    for i in range(20):\n",
        "        print(i * 2)\n",
        "\n",
        "if __name__ == \"__main__\":\n",
        "    main()"
      ],
      "metadata": {
        "colab": {
          "base_uri": "https://localhost:8080/"
        },
        "id": "DyHBi2NUht3m",
        "outputId": "130cbcac-3376-4bf3-cfa3-e99cdc473c1f"
      },
      "execution_count": 4,
      "outputs": [
        {
          "output_type": "stream",
          "name": "stdout",
          "text": [
            "0\n",
            "2\n",
            "4\n",
            "6\n",
            "8\n",
            "10\n",
            "12\n",
            "14\n",
            "16\n",
            "18\n",
            "20\n",
            "22\n",
            "24\n",
            "26\n",
            "28\n",
            "30\n",
            "32\n",
            "34\n",
            "36\n",
            "38\n"
          ]
        }
      ]
    },
    {
      "cell_type": "code",
      "source": [
        "# Voting age constants\n",
        "FARAZ_AGE = 25\n",
        "SHEREEN_AGE = 23\n",
        "MAHA_AGE = 16\n",
        "\n",
        "def main():\n",
        "    user_age = int(input(\"How old are you? \"))\n",
        "\n",
        "    #  voting check\n",
        "    if user_age >= FARAZ_AGE:\n",
        "        print(f\"You can vote in faraz where the voting age is {FARAZ_AGE}.\")\n",
        "    else:\n",
        "        print(f\"You cannot vote in faraz where the voting age is {FARAZ_AGE}.\")\n",
        "\n",
        "    # voting check\n",
        "    if user_age >= SHEREEN_AGE:\n",
        "        print(f\"You can vote in shereen  where the voting age is {SHEREEN_AGE}.\")\n",
        "    else:\n",
        "        print(f\"You cannot vote in Shereen where the voting age is {SHEREEN_AGE}.\")\n",
        "\n",
        "    #  voting check\n",
        "    if user_age >= MAHA_AGE:\n",
        "        print(f\"You can vote in Maha where the voting age is {MAHA_AGE}.\")\n",
        "    else:\n",
        "        print(f\"You cannot vote in Maha where the voting age is {MAHA_AGE}.\")\n",
        "\n",
        "if __name__ == '__main__':\n",
        "    main()"
      ],
      "metadata": {
        "colab": {
          "base_uri": "https://localhost:8080/"
        },
        "id": "3kpEA0fxkmZy",
        "outputId": "1edf7d28-d865-4337-de12-1b80a6f74c16"
      },
      "execution_count": 8,
      "outputs": [
        {
          "output_type": "stream",
          "name": "stdout",
          "text": [
            "How old are you? 23\n",
            "You cannot vote in faraz where the voting age is 25.\n",
            "You can vote in shereen  where the voting age is 23.\n",
            "You can vote in Maha where the voting age is 16.\n"
          ]
        }
      ]
    },
    {
      "cell_type": "code",
      "source": [
        "def main():\n",
        "\n",
        "    year = int(input(\"Please input a year: \"))\n",
        "\n",
        "    # check Leap year\n",
        "    if year % 4 == 0:\n",
        "        if year % 100 == 0:\n",
        "            if year % 400 == 0:\n",
        "                print(\"That's a leap year!\")\n",
        "            else:\n",
        "                print(\"That's not a leap year.\")\n",
        "        else:\n",
        "            print(\"That's a leap year!\")\n",
        "    else:\n",
        "        print(\"That's not a leap year.\")\n",
        "\n",
        "if __name__ == '__main__':\n",
        "    main()"
      ],
      "metadata": {
        "colab": {
          "base_uri": "https://localhost:8080/"
        },
        "id": "6rxrFWxbkz5L",
        "outputId": "2776a1dd-d169-4dc7-dc93-217dc89b771e"
      },
      "execution_count": 9,
      "outputs": [
        {
          "output_type": "stream",
          "name": "stdout",
          "text": [
            "Please input a year: 2004\n",
            "That's a leap year!\n"
          ]
        }
      ]
    },
    {
      "cell_type": "code",
      "source": [
        "MINIMUM_HEIGHT = 5.6\n",
        "\n",
        "def main():\n",
        "    height = float(input(\"How tall are you? \"))\n",
        "    if height >= MINIMUM_HEIGHT:\n",
        "        print(\"You're tall enough to ride!\")\n",
        "    else:\n",
        "        print(\"You're not tall enough to ride, but maybe next year!\")\n",
        "\n",
        "if __name__ == '__main__':\n",
        "    main()"
      ],
      "metadata": {
        "colab": {
          "base_uri": "https://localhost:8080/"
        },
        "id": "9Vq53pQolLN2",
        "outputId": "da19f4b4-ba6f-4819-d366-7e1e8b3a151e"
      },
      "execution_count": 10,
      "outputs": [
        {
          "output_type": "stream",
          "name": "stdout",
          "text": [
            "How tall are you? 5.3\n",
            "You're not tall enough to ride, but maybe next year!\n"
          ]
        }
      ]
    },
    {
      "cell_type": "code",
      "source": [
        "import random\n",
        "\n",
        "N_NUMBERS = 10\n",
        "MIN_VALUE = 1\n",
        "MAX_VALUE = 100\n",
        "\n",
        "def main():\n",
        "    for _ in range(N_NUMBERS):\n",
        "        print(random.randint(MIN_VALUE, MAX_VALUE), end=\" \")\n",
        "    print()\n",
        "\n",
        "if __name__ == '__main__':\n",
        "    main()"
      ],
      "metadata": {
        "colab": {
          "base_uri": "https://localhost:8080/"
        },
        "id": "Kba7VHEqlq1w",
        "outputId": "f840e880-81f1-4f6a-8353-18416b870a68"
      },
      "execution_count": 11,
      "outputs": [
        {
          "output_type": "stream",
          "name": "stdout",
          "text": [
            "62 29 28 44 76 80 85 24 76 3 \n"
          ]
        }
      ]
    }
  ]
}