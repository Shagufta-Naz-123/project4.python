{
  "nbformat": 4,
  "nbformat_minor": 0,
  "metadata": {
    "colab": {
      "provenance": [],
      "authorship_tag": "ABX9TyOubOOsQ6dgwYW4RuxeLNYt",
      "include_colab_link": true
    },
    "kernelspec": {
      "name": "python3",
      "display_name": "Python 3"
    },
    "language_info": {
      "name": "python"
    }
  },
  "cells": [
    {
      "cell_type": "markdown",
      "metadata": {
        "id": "view-in-github",
        "colab_type": "text"
      },
      "source": [
        "<a href=\"https://colab.research.google.com/github/Shagufta-Naz-123/project4.python/blob/main/01_expressions.ipynb\" target=\"_parent\"><img src=\"https://colab.research.google.com/assets/colab-badge.svg\" alt=\"Open In Colab\"/></a>"
      ]
    },
    {
      "cell_type": "code",
      "execution_count": 1,
      "metadata": {
        "colab": {
          "base_uri": "https://localhost:8080/"
        },
        "id": "QEOKhQRGGkup",
        "outputId": "a7ac93c0-aba0-4921-899e-8cdd2acd490e"
      },
      "outputs": [
        {
          "output_type": "stream",
          "name": "stdout",
          "text": [
            "Initial value in main(): 12\n",
            "Rolling dice... 🎲\n",
            "Dice 1: 5, Dice 2: 4, Total: 9\n",
            "Rolling dice... 🎲\n",
            "Dice 1: 6, Dice 2: 4, Total: 10\n",
            "Rolling dice... 🎲\n",
            "Dice 1: 4, Dice 2: 6, Total: 10\n",
            "Final value in main(): 12\n"
          ]
        }
      ],
      "source": [
        "\"\"\"\n",
        "Program: dice_roller\n",
        "----------------------\n",
        "Simulate rolling two dice, three times. Prints\n",
        "the results of each die roll. This program is used\n",
        "to show how variable scope works.\n",
        "\"\"\"\n",
        "\n",
        "import random\n",
        "\n",
        "SIDES = 6\n",
        "\n",
        "def roll_dice():\n",
        "    \"\"\"\n",
        "    Simulates rolling two dice and prints their sum\n",
        "    \"\"\"\n",
        "    dice1: int = random.randint(1, SIDES)\n",
        "    dice2: int = random.randint(1, SIDES)\n",
        "    total: int = dice1 + dice2\n",
        "    print(\"Rolling dice... 🎲\")\n",
        "    print(f\"Dice 1: {dice1}, Dice 2: {dice2}, Total: {total}\")\n",
        "\n",
        "def main():\n",
        "    initial_value: int = 12\n",
        "    print(f\"Initial value in main(): {initial_value}\")\n",
        "\n",
        "    roll_dice()\n",
        "    roll_dice()\n",
        "    roll_dice()\n",
        "\n",
        "    print(f\"Final value in main(): {initial_value}\")\n",
        "\n",
        "if __name__ == '__main__':\n",
        "    main()"
      ]
    },
    {
      "cell_type": "code",
      "source": [
        "SPEED_OF_LIGHT = 299792458\n",
        "\n",
        "def main():\n",
        "    mass: float = float(input(\"Enter mass in kilograms: \"))\n",
        "\n",
        "    energy: float = mass * (SPEED_OF_LIGHT ** 2)\n",
        "\n",
        "    print(\"E = m * C^2...\")\n",
        "    print(f\"Mass (m) = {mass} kg\")\n",
        "    print(f\"Speed of Light (C) = {SPEED_OF_LIGHT} m/s\")\n",
        "    print(f\"Energy (E) = {energy} joules!\")\n",
        "\n",
        "if __name__ == '__main__':\n",
        "    main()"
      ],
      "metadata": {
        "colab": {
          "base_uri": "https://localhost:8080/"
        },
        "id": "R11Uk6mQHQrJ",
        "outputId": "5a6a1135-600a-487d-da91-d7c8a51cdee0"
      },
      "execution_count": 2,
      "outputs": [
        {
          "output_type": "stream",
          "name": "stdout",
          "text": [
            "Enter mass in kilograms: 1000\n",
            "E = m * C^2...\n",
            "Mass (m) = 1000.0 kg\n",
            "Speed of Light (C) = 299792458 m/s\n",
            "Energy (E) = 8.987551787368176e+19 joules!\n"
          ]
        }
      ]
    },
    {
      "cell_type": "code",
      "source": [
        "INCHES_IN_FOOT: int = 12\n",
        "\n",
        "def main():\n",
        "    feet: float = float(input(\"Enter number of feet: \"))\n",
        "    inches: float = feet * INCHES_IN_FOOT\n",
        "\n",
        "    print(feet, \"feet is equal to\", inches, \"inches.\")\n",
        "\n",
        "if __name__ == '__main__':\n",
        "    main()"
      ],
      "metadata": {
        "colab": {
          "base_uri": "https://localhost:8080/"
        },
        "id": "AkhpV4cyIPHV",
        "outputId": "65c4f11e-4158-4b5b-fa97-132e30abc5bf"
      },
      "execution_count": 3,
      "outputs": [
        {
          "output_type": "stream",
          "name": "stdout",
          "text": [
            "Enter number of feet: 8\n",
            "8.0 feet is equal to 96.0 inches.\n"
          ]
        }
      ]
    },
    {
      "cell_type": "code",
      "source": [
        "import math\n",
        "\n",
        "def main():\n",
        "    ab: float = float(input(\"Enter the length of AB: \"))\n",
        "    ac: float = float(input(\"Enter the length of AC: \"))\n",
        "    bc: float = math.sqrt(ab**2 + ac**2)\n",
        "\n",
        "    print(\"The length of BC (the hypotenuse) is:\", bc)\n",
        "\n",
        "if __name__ == '__main__':\n",
        "    main()"
      ],
      "metadata": {
        "colab": {
          "base_uri": "https://localhost:8080/"
        },
        "id": "6wUaUjy9IXsf",
        "outputId": "4891c3fb-2524-487b-c930-c3e9205226d0"
      },
      "execution_count": 4,
      "outputs": [
        {
          "output_type": "stream",
          "name": "stdout",
          "text": [
            "Enter the length of AB: 3\n",
            "Enter the length of AC: 4\n",
            "The length of BC (the hypotenuse) is: 5.0\n"
          ]
        }
      ]
    },
    {
      "cell_type": "code",
      "source": [
        "def main():\n",
        "    dividend = int(input(\"Please enter an integer to be divided: \"))\n",
        "    divisor = int(input(\"Please enter an integer to divide by: \"))\n",
        "\n",
        "    quotient = dividend // divisor\n",
        "    remainder = dividend % divisor\n",
        "\n",
        "    print(f\"The result of this division is {quotient} with a remainder of {remainder}\")\n",
        "\n",
        "if __name__ == '__main__':\n",
        "    main()"
      ],
      "metadata": {
        "colab": {
          "base_uri": "https://localhost:8080/"
        },
        "id": "3mBd946MJGPw",
        "outputId": "a0f225f4-2e73-452f-94f2-16d51bb669e2"
      },
      "execution_count": 5,
      "outputs": [
        {
          "output_type": "stream",
          "name": "stdout",
          "text": [
            "Please enter an integer to be divided: 5\n",
            "Please enter an integer to divide by: 3\n",
            "The result of this division is 1 with a remainder of 2\n"
          ]
        }
      ]
    },
    {
      "cell_type": "code",
      "source": [
        "import random\n",
        "\n",
        "NUM_SIDES = 6\n",
        "\n",
        "def main():\n",
        "    die1 = random.randint(1, NUM_SIDES)\n",
        "    die2 = random.randint(1, NUM_SIDES)\n",
        "\n",
        "    total = die1 + die2\n",
        "\n",
        "    print(f\"Dice have {NUM_SIDES} sides each.\")\n",
        "    print(f\"First die: {die1}\")\n",
        "    print(f\"Second die: {die2}\")\n",
        "    print(f\"Total of two dice: {total}\")\n",
        "\n",
        "if __name__ == '__main__':\n",
        "    main()"
      ],
      "metadata": {
        "colab": {
          "base_uri": "https://localhost:8080/"
        },
        "id": "rnl_Bm5VJYWP",
        "outputId": "8296d6f4-5ab7-4aca-c8a3-5ea6f1a954e6"
      },
      "execution_count": 6,
      "outputs": [
        {
          "output_type": "stream",
          "name": "stdout",
          "text": [
            "Dice have 6 sides each.\n",
            "First die: 6\n",
            "Second die: 1\n",
            "Total of two dice: 7\n"
          ]
        }
      ]
    },
    {
      "cell_type": "code",
      "source": [
        "DAYS_PER_YEAR = 365\n",
        "HOURS_PER_DAY = 24\n",
        "MIN_PER_HOUR = 60\n",
        "SEC_PER_MIN = 60\n",
        "\n",
        "def main():\n",
        "    total_seconds = DAYS_PER_YEAR * HOURS_PER_DAY * MIN_PER_HOUR * SEC_PER_MIN\n",
        "\n",
        "    print(f\"There are {total_seconds} seconds in a year!\")\n",
        "\n",
        "if __name__ == '__main__':\n",
        "    main()"
      ],
      "metadata": {
        "colab": {
          "base_uri": "https://localhost:8080/"
        },
        "id": "jXkS1FprJotS",
        "outputId": "e90cd27f-046a-4fd9-be7d-89e38a1ffeed"
      },
      "execution_count": 7,
      "outputs": [
        {
          "output_type": "stream",
          "name": "stdout",
          "text": [
            "There are 31536000 seconds in a year!\n"
          ]
        }
      ]
    },
    {
      "cell_type": "code",
      "source": [
        "SENTENCE_START = \"Panaversity is fun. I learned to program and used Python to make my \"\n",
        "\n",
        "def main():\n",
        "    adjective = input(\"Please type an adjective and press enter: \")\n",
        "    noun = input(\"Please type a noun and press enter: \")\n",
        "    verb = input(\"Please type a verb and press enter: \")\n",
        "    print(SENTENCE_START + adjective + \" \" + noun + \" \" + verb + \"!\")\n",
        "\n",
        "if __name__ == '__main__':\n",
        "    main()"
      ],
      "metadata": {
        "colab": {
          "base_uri": "https://localhost:8080/"
        },
        "id": "hwh9LSJpJwJH",
        "outputId": "3e1a7f1e-672f-411d-bfc5-88127b95379c"
      },
      "execution_count": 8,
      "outputs": [
        {
          "output_type": "stream",
          "name": "stdout",
          "text": [
            "Please type an adjective and press enter: amazing\n",
            "Please type a noun and press enter: Ali\n",
            "Please type a verb and press enter: work\n",
            "Panaversity is fun. I learned to program and used Python to make my amazing Ali work!\n"
          ]
        }
      ]
    }
  ]
}