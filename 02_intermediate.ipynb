{
  "nbformat": 4,
  "nbformat_minor": 0,
  "metadata": {
    "colab": {
      "provenance": [],
      "authorship_tag": "ABX9TyMMXW2kxFGkdMcOck6C3iGa",
      "include_colab_link": true
    },
    "kernelspec": {
      "name": "python3",
      "display_name": "Python 3"
    },
    "language_info": {
      "name": "python"
    }
  },
  "cells": [
    {
      "cell_type": "markdown",
      "metadata": {
        "id": "view-in-github",
        "colab_type": "text"
      },
      "source": [
        "<a href=\"https://colab.research.google.com/github/Shagufta-Naz-123/project4.python/blob/main/02_intermediate.ipynb\" target=\"_parent\"><img src=\"https://colab.research.google.com/assets/colab-badge.svg\" alt=\"Open In Colab\"/></a>"
      ]
    },
    {
      "cell_type": "code",
      "execution_count": 1,
      "metadata": {
        "colab": {
          "base_uri": "https://localhost:8080/"
        },
        "id": "cpQpC38cNYjN",
        "outputId": "b958e4fa-e756-448b-b118-dfec4c9d1aa7"
      },
      "outputs": [
        {
          "output_type": "stream",
          "name": "stdout",
          "text": [
            "Welcome to the High-Low Game!\n",
            "--------------------------------\n",
            "Round 1\n",
            "Your number is 86\n",
            "Do you think your number is higher or lower than the computer's?: higher\n",
            "You were right! The computer's number was 11\n",
            "Your score is now 1\n",
            "\n",
            "Round 2\n",
            "Your number is 80\n",
            "Do you think your number is higher or lower than the computer's?: higher\n",
            "You were right! The computer's number was 48\n",
            "Your score is now 2\n",
            "\n",
            "Round 3\n",
            "Your number is 96\n",
            "Do you think your number is higher or lower than the computer's?: lower\n",
            "Aww, that's incorrect. The computer's number was 17\n",
            "Your score is now 2\n",
            "\n",
            "Round 4\n",
            "Your number is 34\n",
            "Do you think your number is higher or lower than the computer's?: lower\n",
            "You were right! The computer's number was 95\n",
            "Your score is now 3\n",
            "\n",
            "Round 5\n",
            "Your number is 67\n",
            "Do you think your number is higher or lower than the computer's?: \n",
            "Please enter either 'higher' or 'lower': higher\n",
            "You were right! The computer's number was 20\n",
            "Your score is now 4\n",
            "\n",
            "Thanks for playing!\n",
            "Good job, you played really well! 👍\n"
          ]
        }
      ],
      "source": [
        "import random\n",
        "\n",
        "NUM_ROUNDS = 5  # Total rounds\n",
        "MIN_VALUE = 1   # Minimum number\n",
        "MAX_VALUE = 100 # Maximum number\n",
        "\n",
        "def main():\n",
        "    print(\"Welcome to the High-Low Game!\")\n",
        "    print(\"--------------------------------\")\n",
        "\n",
        "    score = 0  # Player initial score 0 hoga\n",
        "\n",
        "    for round_num in range(1, NUM_ROUNDS + 1):\n",
        "        print(f\"Round {round_num}\")\n",
        "\n",
        "        # Generate Random numbers\n",
        "        player_number = random.randint(MIN_VALUE, MAX_VALUE)\n",
        "        computer_number = random.randint(MIN_VALUE, MAX_VALUE)\n",
        "\n",
        "        print(f\"Your number is {player_number}\")\n",
        "\n",
        "        guess = input(\"Do you think your number is higher or lower than the computer's?: \").strip().lower()\n",
        "        while guess not in [\"higher\", \"lower\"]:\n",
        "            guess = input(\"Please enter either 'higher' or 'lower': \").strip().lower()\n",
        "\n",
        "        # Game logic implement\n",
        "        if (guess == \"higher\" and player_number > computer_number) or (guess == \"lower\" and player_number < computer_number):\n",
        "            print(\"You were right!\", end=\" \")\n",
        "            score += 1\n",
        "        else:\n",
        "            print(\"Aww, that's incorrect.\", end=\" \")\n",
        "\n",
        "        print(f\"The computer's number was {computer_number}\")\n",
        "        print(f\"Your score is now {score}\\n\")\n",
        "\n",
        "    print(\"Thanks for playing!\")\n",
        "\n",
        "    if score == NUM_ROUNDS:\n",
        "        print(\"Wow! You played perfectly! 🎉\")\n",
        "    elif score >= NUM_ROUNDS // 2:\n",
        "        print(\"Good job, you played really well! 👍\")\n",
        "    else:\n",
        "        print(\"Better luck next time! 😊\")\n",
        "\n",
        "if __name__ == '__main__':\n",
        "    main()"
      ]
    },
    {
      "cell_type": "code",
      "source": [
        "GRAVITY_MULTIPLIERS = {\n",
        "    \"Mercury\": 0.376,\n",
        "    \"Venus\": 0.889,\n",
        "    \"Mars\": 0.378,\n",
        "    \"Jupiter\": 2.36,\n",
        "    \"Saturn\": 1.081,\n",
        "    \"Uranus\": 0.815,\n",
        "    \"Neptune\": 1.14\n",
        "}\n",
        "\n",
        "def main():\n",
        "    # User input for Earth weight\n",
        "    earth_weight = float(input(\"Enter a weight on Earth: \"))\n",
        "\n",
        "    # User input for planet name\n",
        "    planet = input(\"Enter a planet: \")\n",
        "\n",
        "    # Check if planet exists in dictionary\n",
        "    if planet in GRAVITY_MULTIPLIERS:\n",
        "        planetary_weight = round(earth_weight * GRAVITY_MULTIPLIERS[planet], 2)\n",
        "        print(f\"The equivalent weight on {planet}: {planetary_weight}\")\n",
        "    else:\n",
        "        print(\"Invalid planet name! Please enter a valid planet (Mercury, Venus, Mars, Jupiter, Saturn, Uranus, Neptune).\")\n",
        "\n",
        "if __name__ == \"__main__\":\n",
        "    main()"
      ],
      "metadata": {
        "colab": {
          "base_uri": "https://localhost:8080/"
        },
        "id": "lw0_hY_SPPBO",
        "outputId": "4824d234-e6fa-4798-e1be-bdd1af3fb69e"
      },
      "execution_count": 2,
      "outputs": [
        {
          "output_type": "stream",
          "name": "stdout",
          "text": [
            "Enter a weight on Earth: 150\n",
            "Enter a planet: Mars\n",
            "The equivalent weight on Mars: 56.7\n"
          ]
        }
      ]
    },
    {
      "cell_type": "code",
      "source": [
        "def main():\n",
        "    # Create a list called fruit_list that contains the following fruits\n",
        "    fruit_list = ['apple', 'banana', 'orange', 'grape', 'pineapple']\n",
        "\n",
        "    # Print the length of the list\n",
        "    print(\"Length of the list:\", len(fruit_list))\n",
        "\n",
        "    # Add 'mango' at the end of the list\n",
        "    fruit_list.append('mango')\n",
        "\n",
        "    # Print the updated list\n",
        "    print(\"Updated fruit list:\", fruit_list)\n",
        "\n",
        "if __name__ == \"__main__\":\n",
        "    main()"
      ],
      "metadata": {
        "colab": {
          "base_uri": "https://localhost:8080/"
        },
        "id": "dPYuQCRPQvq4",
        "outputId": "b7172aa4-9435-4e83-ce66-9661a2f41640"
      },
      "execution_count": 3,
      "outputs": [
        {
          "output_type": "stream",
          "name": "stdout",
          "text": [
            "Length of the list: 5\n",
            "Updated fruit list: ['apple', 'banana', 'orange', 'grape', 'pineapple', 'mango']\n"
          ]
        }
      ]
    },
    {
      "cell_type": "code",
      "source": [
        "def access_element(lst, index):\n",
        "    try:\n",
        "        return lst[index]\n",
        "    except IndexError:\n",
        "        return \"Index out of range.\"\n",
        "\n",
        "def modify_element(lst, index, new_value):\n",
        "    try:\n",
        "        lst[index] = new_value\n",
        "        return lst\n",
        "    except IndexError:\n",
        "        return \"Index out of range.\"\n",
        "\n",
        "def slice_list(lst, start, end):\n",
        "    return lst[start:end]  # Slicing automatically handles out-of-range cases\n",
        "\n",
        "def index_game():\n",
        "    lst = [10, 20, 30, 40, 50]  # Example list\n",
        "    print(\"Current list:\", lst)\n",
        "    print(\"Choose an operation: access, modify, slice\")\n",
        "    operation = input(\"Enter operation: \").strip().lower()\n",
        "\n",
        "    if operation == \"access\":\n",
        "        index = int(input(\"Enter index to access: \"))\n",
        "        print(\"Element:\", access_element(lst, index))\n",
        "\n",
        "    elif operation == \"modify\":\n",
        "        index = int(input(\"Enter index to modify: \"))\n",
        "        new_value = input(\"Enter new value: \")\n",
        "        print(\"Updated list:\", modify_element(lst, index, new_value))\n",
        "\n",
        "    elif operation == \"slice\":\n",
        "        start = int(input(\"Enter start index: \"))\n",
        "        end = int(input(\"Enter end index: \"))\n",
        "        print(\"Sliced list:\", slice_list(lst, start, end))\n",
        "\n",
        "    else:\n",
        "        print(\"Invalid operation.\")\n",
        "\n",
        "if __name__ == \"__main__\":\n",
        "    index_game()"
      ],
      "metadata": {
        "colab": {
          "base_uri": "https://localhost:8080/"
        },
        "id": "w2xZlVOQQ5q_",
        "outputId": "6fe2ab9e-47f2-4481-f2c4-e458aabaa615"
      },
      "execution_count": 4,
      "outputs": [
        {
          "output_type": "stream",
          "name": "stdout",
          "text": [
            "Current list: [10, 20, 30, 40, 50]\n",
            "Choose an operation: access, modify, slice\n",
            "Enter operation: slice\n",
            "Enter start index: 0\n",
            "Enter end index: 5\n",
            "Sliced list: [10, 20, 30, 40, 50]\n"
          ]
        }
      ]
    }
  ]
}